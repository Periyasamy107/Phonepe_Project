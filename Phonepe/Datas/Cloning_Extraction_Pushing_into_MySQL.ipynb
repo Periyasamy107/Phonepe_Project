{
 "cells": [
  {
   "cell_type": "markdown",
   "id": "415ddd4f",
   "metadata": {},
   "source": [
    "## Importing libraries"
   ]
  },
  {
   "cell_type": "code",
   "execution_count": 1,
   "id": "8b07fbc4",
   "metadata": {},
   "outputs": [],
   "source": [
    "from git import Repo\n",
    "import os\n",
    "import pandas as pd\n",
    "import numpy as np\n",
    "import mysql.connector"
   ]
  },
  {
   "cell_type": "markdown",
   "id": "9c8c70a0",
   "metadata": {},
   "source": [
    "## Cloning from repository"
   ]
  },
  {
   "cell_type": "code",
   "execution_count": 2,
   "id": "284a72ee",
   "metadata": {},
   "outputs": [
    {
     "name": "stdout",
     "output_type": "stream",
     "text": [
      "D:\\Desktop\\Projects\\Phonepy\\Datas\\Pulse\n",
      "D:\\Desktop\\Projects\\Phonepy\\Datas\\Pulse\\data\n"
     ]
    }
   ],
   "source": [
    "repo_url = 'https://github.com/PhonePe/pulse.git'\n",
    "clone_path = 'D:\\Desktop\\Projects\\Phonepy\\Datas'\n",
    "\n",
    "if not os.path.exists(clone_path):\n",
    "    os.makedirs(clone_path)\n",
    "    \n",
    "repo_path = os.path.join(clone_path, os.path.basename(repo_url).removesuffix('.git').title())\n",
    "print(repo_path)\n",
    "\n",
    "Repo.clone_from(repo_url, repo_path)\n",
    "\n",
    "directory = os.path.join(repo_path, 'data')\n",
    "print(directory)"
   ]
  },
  {
   "cell_type": "markdown",
   "id": "414ff6a8",
   "metadata": {},
   "source": [
    "## Renaming sub-directories and extract necessary paths"
   ]
  },
  {
   "cell_type": "code",
   "execution_count": 3,
   "id": "5c4f1412",
   "metadata": {},
   "outputs": [],
   "source": [
    "# Function to rename messy state names into formatted state name\n",
    "def rename(directory):\n",
    "    for root, dirs, files in os.walk(directory):\n",
    "        if 'state' in dirs:\n",
    "            state_dir = os.path.join(root, 'state')\n",
    "            \n",
    "            for state_folder in os.listdir(state_dir):\n",
    "                old_path = os.path.join(state_dir, state_folder)\n",
    "                new_path = os.path.join(state_dir, state_folder.title().replace('-',' ').replace('&','and'))\n",
    "                os.rename(old_path, new_path)\n",
    "    print('Renamed all sub-directories successfully')\n",
    "    \n",
    "# Extract path names in the'state'-named subdirectory\n",
    "def extract_paths(directory):\n",
    "    path_list = []\n",
    "    \n",
    "    for root, dirs, files in os.walk(directory):\n",
    "        if os.path.basename(root) == 'state':\n",
    "            path_list.append(root.replace('\\\\','/'))\n",
    "            \n",
    "    return path_list"
   ]
  },
  {
   "cell_type": "code",
   "execution_count": 4,
   "id": "eb8b9438",
   "metadata": {},
   "outputs": [
    {
     "name": "stdout",
     "output_type": "stream",
     "text": [
      "Renamed all sub-directories successfully\n"
     ]
    }
   ],
   "source": [
    "rename(directory)"
   ]
  },
  {
   "cell_type": "code",
   "execution_count": 5,
   "id": "ce6d45d9",
   "metadata": {
    "scrolled": true
   },
   "outputs": [
    {
     "data": {
      "text/plain": [
       "['D:/Desktop/Projects/Phonepy/Datas/Pulse/data/aggregated/transaction/country/india/state',\n",
       " 'D:/Desktop/Projects/Phonepy/Datas/Pulse/data/aggregated/user/country/india/state',\n",
       " 'D:/Desktop/Projects/Phonepy/Datas/Pulse/data/map/transaction/hover/country/india/state',\n",
       " 'D:/Desktop/Projects/Phonepy/Datas/Pulse/data/map/user/hover/country/india/state',\n",
       " 'D:/Desktop/Projects/Phonepy/Datas/Pulse/data/top/transaction/country/india/state',\n",
       " 'D:/Desktop/Projects/Phonepy/Datas/Pulse/data/top/user/country/india/state']"
      ]
     },
     "execution_count": 5,
     "metadata": {},
     "output_type": "execute_result"
    }
   ],
   "source": [
    "state_directories = extract_paths(directory)\n",
    "state_directories"
   ]
  },
  {
   "cell_type": "markdown",
   "id": "73981de1",
   "metadata": {},
   "source": [
    "## Creating DataFrame from cloned json files"
   ]
  },
  {
   "cell_type": "markdown",
   "id": "5075d80e",
   "metadata": {},
   "source": [
    "### 1) Aggregate Transaction"
   ]
  },
  {
   "cell_type": "code",
   "execution_count": 6,
   "id": "84e6e15a",
   "metadata": {},
   "outputs": [],
   "source": [
    "state_path = state_directories[0]\n",
    "state_list = os.listdir(state_path)\n",
    "agg_trans_dict = {\n",
    "    'State':[], 'Year':[], 'Quarter':[], 'Transaction_Type':[],\n",
    "    'Transaction_Count':[], 'Transaction_Amount':[]\n",
    "}\n",
    "\n",
    "for state in state_list:\n",
    "    year_path = state_path + '/' + state + '/'\n",
    "    year_list = os.listdir(year_path)\n",
    "    \n",
    "    for year in year_list:\n",
    "        quarter_path = year_path + year + '/'\n",
    "        quarter_list = os.listdir(quarter_path)\n",
    "        \n",
    "        for quarter in quarter_list:\n",
    "            json_path = quarter_path + quarter\n",
    "            df = pd.read_json(json_path)\n",
    "            \n",
    "            try:\n",
    "                for transaction_data in df['data']['transactionData']:\n",
    "                    type = transaction_data['name']\n",
    "                    count = transaction_data['paymentInstruments'][0]['count']\n",
    "                    amount = transaction_data['paymentInstruments'][0]['amount']\n",
    "\n",
    "                    # append to agg_trans_dict\n",
    "\n",
    "                    agg_trans_dict['State'].append(state)\n",
    "                    agg_trans_dict['Year'].append(int(year))\n",
    "                    agg_trans_dict['Quarter'].append(int(quarter.removesuffix('.json')))\n",
    "                    agg_trans_dict['Transaction_Type'].append(type)\n",
    "                    agg_trans_dict['Transaction_Count'].append(int(count))\n",
    "                    agg_trans_dict['Transaction_Amount'].append(float(amount))\n",
    "            except:\n",
    "                pass\n",
    "agg_trans_df = pd.DataFrame(agg_trans_dict)"
   ]
  },
  {
   "cell_type": "code",
   "execution_count": 7,
   "id": "b314baa8",
   "metadata": {},
   "outputs": [
    {
     "data": {
      "text/html": [
       "<div>\n",
       "<style scoped>\n",
       "    .dataframe tbody tr th:only-of-type {\n",
       "        vertical-align: middle;\n",
       "    }\n",
       "\n",
       "    .dataframe tbody tr th {\n",
       "        vertical-align: top;\n",
       "    }\n",
       "\n",
       "    .dataframe thead th {\n",
       "        text-align: right;\n",
       "    }\n",
       "</style>\n",
       "<table border=\"1\" class=\"dataframe\">\n",
       "  <thead>\n",
       "    <tr style=\"text-align: right;\">\n",
       "      <th></th>\n",
       "      <th>State</th>\n",
       "      <th>Year</th>\n",
       "      <th>Quarter</th>\n",
       "      <th>Transaction_Type</th>\n",
       "      <th>Transaction_Count</th>\n",
       "      <th>Transaction_Amount</th>\n",
       "    </tr>\n",
       "  </thead>\n",
       "  <tbody>\n",
       "    <tr>\n",
       "      <th>0</th>\n",
       "      <td>Andaman and Nicobar Islands</td>\n",
       "      <td>2018</td>\n",
       "      <td>1</td>\n",
       "      <td>Recharge &amp; bill payments</td>\n",
       "      <td>4200</td>\n",
       "      <td>1.845307e+06</td>\n",
       "    </tr>\n",
       "    <tr>\n",
       "      <th>1</th>\n",
       "      <td>Andaman and Nicobar Islands</td>\n",
       "      <td>2018</td>\n",
       "      <td>1</td>\n",
       "      <td>Peer-to-peer payments</td>\n",
       "      <td>1871</td>\n",
       "      <td>1.213866e+07</td>\n",
       "    </tr>\n",
       "    <tr>\n",
       "      <th>2</th>\n",
       "      <td>Andaman and Nicobar Islands</td>\n",
       "      <td>2018</td>\n",
       "      <td>1</td>\n",
       "      <td>Merchant payments</td>\n",
       "      <td>298</td>\n",
       "      <td>4.525072e+05</td>\n",
       "    </tr>\n",
       "    <tr>\n",
       "      <th>3</th>\n",
       "      <td>Andaman and Nicobar Islands</td>\n",
       "      <td>2018</td>\n",
       "      <td>1</td>\n",
       "      <td>Financial Services</td>\n",
       "      <td>33</td>\n",
       "      <td>1.060142e+04</td>\n",
       "    </tr>\n",
       "    <tr>\n",
       "      <th>4</th>\n",
       "      <td>Andaman and Nicobar Islands</td>\n",
       "      <td>2018</td>\n",
       "      <td>1</td>\n",
       "      <td>Others</td>\n",
       "      <td>256</td>\n",
       "      <td>1.846899e+05</td>\n",
       "    </tr>\n",
       "  </tbody>\n",
       "</table>\n",
       "</div>"
      ],
      "text/plain": [
       "                         State  Year  Quarter          Transaction_Type  \\\n",
       "0  Andaman and Nicobar Islands  2018        1  Recharge & bill payments   \n",
       "1  Andaman and Nicobar Islands  2018        1     Peer-to-peer payments   \n",
       "2  Andaman and Nicobar Islands  2018        1         Merchant payments   \n",
       "3  Andaman and Nicobar Islands  2018        1        Financial Services   \n",
       "4  Andaman and Nicobar Islands  2018        1                    Others   \n",
       "\n",
       "   Transaction_Count  Transaction_Amount  \n",
       "0               4200        1.845307e+06  \n",
       "1               1871        1.213866e+07  \n",
       "2                298        4.525072e+05  \n",
       "3                 33        1.060142e+04  \n",
       "4                256        1.846899e+05  "
      ]
     },
     "execution_count": 7,
     "metadata": {},
     "output_type": "execute_result"
    }
   ],
   "source": [
    "agg_trans_df.head()"
   ]
  },
  {
   "cell_type": "code",
   "execution_count": 8,
   "id": "c7a30482",
   "metadata": {},
   "outputs": [
    {
     "data": {
      "text/plain": [
       "State                  object\n",
       "Year                    int64\n",
       "Quarter                 int64\n",
       "Transaction_Type       object\n",
       "Transaction_Count       int64\n",
       "Transaction_Amount    float64\n",
       "dtype: object"
      ]
     },
     "execution_count": 8,
     "metadata": {},
     "output_type": "execute_result"
    }
   ],
   "source": [
    "agg_trans_df.dtypes"
   ]
  },
  {
   "cell_type": "markdown",
   "id": "716747e5",
   "metadata": {},
   "source": [
    "### 2) Aggregate User"
   ]
  },
  {
   "cell_type": "code",
   "execution_count": 9,
   "id": "976e620b",
   "metadata": {},
   "outputs": [],
   "source": [
    "state_path = state_directories[1]\n",
    "state_list = os.listdir(state_path)\n",
    "agg_user_dict = {\n",
    "    'State':[], 'Year':[], 'Quarter':[], 'Brand':[],\n",
    "    'Transaction_Count':[], 'Percentage':[]\n",
    "}\n",
    "\n",
    "for state in state_list:\n",
    "    year_path = state_path + '/' + state + '/'\n",
    "    year_list = os.listdir(year_path)\n",
    "    \n",
    "    for year in year_list:\n",
    "        quarter_path = year_path + year + '/'\n",
    "        quarter_list = os.listdir(quarter_path)\n",
    "        \n",
    "        for quarter in quarter_list:\n",
    "            json_path = quarter_path + quarter\n",
    "            df = pd.read_json(json_path)\n",
    "            \n",
    "            try:\n",
    "                for user_data in df['data']['usersByDevice']:\n",
    "                    brand = user_data['brand']\n",
    "                    count = user_data['count']\n",
    "                    percentage = user_data['percentage']\n",
    "\n",
    "                    # append to agg_user_dict\n",
    "\n",
    "                    agg_user_dict['State'].append(state)\n",
    "                    agg_user_dict['Year'].append(int(year))\n",
    "                    agg_user_dict['Quarter'].append(int(quarter.removesuffix('.json')))\n",
    "                    agg_user_dict['Brand'].append(brand)\n",
    "                    agg_user_dict['Transaction_Count'].append(int(count))\n",
    "                    agg_user_dict['Percentage'].append(float(percentage))\n",
    "            except:\n",
    "                pass\n",
    "                \n",
    "agg_user_df = pd.DataFrame(agg_user_dict)        "
   ]
  },
  {
   "cell_type": "code",
   "execution_count": 10,
   "id": "fc45880b",
   "metadata": {},
   "outputs": [
    {
     "data": {
      "text/html": [
       "<div>\n",
       "<style scoped>\n",
       "    .dataframe tbody tr th:only-of-type {\n",
       "        vertical-align: middle;\n",
       "    }\n",
       "\n",
       "    .dataframe tbody tr th {\n",
       "        vertical-align: top;\n",
       "    }\n",
       "\n",
       "    .dataframe thead th {\n",
       "        text-align: right;\n",
       "    }\n",
       "</style>\n",
       "<table border=\"1\" class=\"dataframe\">\n",
       "  <thead>\n",
       "    <tr style=\"text-align: right;\">\n",
       "      <th></th>\n",
       "      <th>State</th>\n",
       "      <th>Year</th>\n",
       "      <th>Quarter</th>\n",
       "      <th>Brand</th>\n",
       "      <th>Transaction_Count</th>\n",
       "      <th>Percentage</th>\n",
       "    </tr>\n",
       "  </thead>\n",
       "  <tbody>\n",
       "    <tr>\n",
       "      <th>0</th>\n",
       "      <td>Andaman and Nicobar Islands</td>\n",
       "      <td>2018</td>\n",
       "      <td>1</td>\n",
       "      <td>Xiaomi</td>\n",
       "      <td>1665</td>\n",
       "      <td>0.247033</td>\n",
       "    </tr>\n",
       "    <tr>\n",
       "      <th>1</th>\n",
       "      <td>Andaman and Nicobar Islands</td>\n",
       "      <td>2018</td>\n",
       "      <td>1</td>\n",
       "      <td>Samsung</td>\n",
       "      <td>1445</td>\n",
       "      <td>0.214392</td>\n",
       "    </tr>\n",
       "    <tr>\n",
       "      <th>2</th>\n",
       "      <td>Andaman and Nicobar Islands</td>\n",
       "      <td>2018</td>\n",
       "      <td>1</td>\n",
       "      <td>Vivo</td>\n",
       "      <td>982</td>\n",
       "      <td>0.145697</td>\n",
       "    </tr>\n",
       "    <tr>\n",
       "      <th>3</th>\n",
       "      <td>Andaman and Nicobar Islands</td>\n",
       "      <td>2018</td>\n",
       "      <td>1</td>\n",
       "      <td>Oppo</td>\n",
       "      <td>501</td>\n",
       "      <td>0.074332</td>\n",
       "    </tr>\n",
       "    <tr>\n",
       "      <th>4</th>\n",
       "      <td>Andaman and Nicobar Islands</td>\n",
       "      <td>2018</td>\n",
       "      <td>1</td>\n",
       "      <td>OnePlus</td>\n",
       "      <td>332</td>\n",
       "      <td>0.049258</td>\n",
       "    </tr>\n",
       "  </tbody>\n",
       "</table>\n",
       "</div>"
      ],
      "text/plain": [
       "                         State  Year  Quarter    Brand  Transaction_Count  \\\n",
       "0  Andaman and Nicobar Islands  2018        1   Xiaomi               1665   \n",
       "1  Andaman and Nicobar Islands  2018        1  Samsung               1445   \n",
       "2  Andaman and Nicobar Islands  2018        1     Vivo                982   \n",
       "3  Andaman and Nicobar Islands  2018        1     Oppo                501   \n",
       "4  Andaman and Nicobar Islands  2018        1  OnePlus                332   \n",
       "\n",
       "   Percentage  \n",
       "0    0.247033  \n",
       "1    0.214392  \n",
       "2    0.145697  \n",
       "3    0.074332  \n",
       "4    0.049258  "
      ]
     },
     "execution_count": 10,
     "metadata": {},
     "output_type": "execute_result"
    }
   ],
   "source": [
    "agg_user_df.head()"
   ]
  },
  {
   "cell_type": "code",
   "execution_count": 11,
   "id": "9480304d",
   "metadata": {},
   "outputs": [
    {
     "data": {
      "text/plain": [
       "State                 object\n",
       "Year                   int64\n",
       "Quarter                int64\n",
       "Brand                 object\n",
       "Transaction_Count      int64\n",
       "Percentage           float64\n",
       "dtype: object"
      ]
     },
     "execution_count": 11,
     "metadata": {},
     "output_type": "execute_result"
    }
   ],
   "source": [
    "agg_user_df.dtypes"
   ]
  },
  {
   "cell_type": "markdown",
   "id": "1eef011d",
   "metadata": {},
   "source": [
    "### 3) Map Transaction"
   ]
  },
  {
   "cell_type": "code",
   "execution_count": 12,
   "id": "dedb5082",
   "metadata": {},
   "outputs": [],
   "source": [
    "state_path = state_directories[2]\n",
    "state_list = os.listdir(state_path)\n",
    "map_trans_dict = {\n",
    "    'State':[], 'Year':[], 'Quarter':[], 'District':[],\n",
    "    'Transaction_Count':[], 'Transaction_Amount':[]\n",
    "}\n",
    "\n",
    "for state in state_list:\n",
    "    year_path = state_path + '/' + state + '/'\n",
    "    year_list = os.listdir(year_path)\n",
    "    \n",
    "    for year in year_list:\n",
    "        quarter_path = year_path + year + '/'\n",
    "        quarter_list = os.listdir(quarter_path)\n",
    "        \n",
    "        for quarter in quarter_list:\n",
    "            json_path = quarter_path + quarter\n",
    "            df = pd.read_json(json_path)\n",
    "            \n",
    "            try:\n",
    "    #             for transaction_data in df['data'][0]:\n",
    "                for transaction_data in df['data']['hoverDataList']:\n",
    "                    district = transaction_data['name']\n",
    "                    count = transaction_data['metric'][0]['count']\n",
    "                    amount = transaction_data['metric'][0]['amount']\n",
    "\n",
    "                    # append map_trans_dict \n",
    "\n",
    "                    map_trans_dict['State'].append(state)\n",
    "                    map_trans_dict['Year'].append(int(year))\n",
    "                    map_trans_dict['Quarter'].append(int(quarter.removesuffix('.json')))\n",
    "                    map_trans_dict['District'].append(district.removesuffix(' district').title().replace(' And', ' and').replace('andaman', 'Andaman'))\n",
    "                    map_trans_dict['Transaction_Count'].append(int(count))\n",
    "                    map_trans_dict['Transaction_Amount'].append(float(amount))\n",
    "                    \n",
    "            except:\n",
    "                pass\n",
    "            \n",
    "map_trans_df = pd.DataFrame(map_trans_dict)"
   ]
  },
  {
   "cell_type": "code",
   "execution_count": 13,
   "id": "20861b08",
   "metadata": {},
   "outputs": [
    {
     "data": {
      "text/html": [
       "<div>\n",
       "<style scoped>\n",
       "    .dataframe tbody tr th:only-of-type {\n",
       "        vertical-align: middle;\n",
       "    }\n",
       "\n",
       "    .dataframe tbody tr th {\n",
       "        vertical-align: top;\n",
       "    }\n",
       "\n",
       "    .dataframe thead th {\n",
       "        text-align: right;\n",
       "    }\n",
       "</style>\n",
       "<table border=\"1\" class=\"dataframe\">\n",
       "  <thead>\n",
       "    <tr style=\"text-align: right;\">\n",
       "      <th></th>\n",
       "      <th>State</th>\n",
       "      <th>Year</th>\n",
       "      <th>Quarter</th>\n",
       "      <th>District</th>\n",
       "      <th>Transaction_Count</th>\n",
       "      <th>Transaction_Amount</th>\n",
       "    </tr>\n",
       "  </thead>\n",
       "  <tbody>\n",
       "    <tr>\n",
       "      <th>0</th>\n",
       "      <td>Andaman and Nicobar Islands</td>\n",
       "      <td>2018</td>\n",
       "      <td>1</td>\n",
       "      <td>North and Middle Andaman</td>\n",
       "      <td>442</td>\n",
       "      <td>9.316631e+05</td>\n",
       "    </tr>\n",
       "    <tr>\n",
       "      <th>1</th>\n",
       "      <td>Andaman and Nicobar Islands</td>\n",
       "      <td>2018</td>\n",
       "      <td>1</td>\n",
       "      <td>South Andaman</td>\n",
       "      <td>5688</td>\n",
       "      <td>1.256025e+07</td>\n",
       "    </tr>\n",
       "    <tr>\n",
       "      <th>2</th>\n",
       "      <td>Andaman and Nicobar Islands</td>\n",
       "      <td>2018</td>\n",
       "      <td>1</td>\n",
       "      <td>Nicobars</td>\n",
       "      <td>528</td>\n",
       "      <td>1.139849e+06</td>\n",
       "    </tr>\n",
       "    <tr>\n",
       "      <th>3</th>\n",
       "      <td>Andaman and Nicobar Islands</td>\n",
       "      <td>2018</td>\n",
       "      <td>2</td>\n",
       "      <td>North and Middle Andaman</td>\n",
       "      <td>825</td>\n",
       "      <td>1.317863e+06</td>\n",
       "    </tr>\n",
       "    <tr>\n",
       "      <th>4</th>\n",
       "      <td>Andaman and Nicobar Islands</td>\n",
       "      <td>2018</td>\n",
       "      <td>2</td>\n",
       "      <td>South Andaman</td>\n",
       "      <td>9395</td>\n",
       "      <td>2.394824e+07</td>\n",
       "    </tr>\n",
       "  </tbody>\n",
       "</table>\n",
       "</div>"
      ],
      "text/plain": [
       "                         State  Year  Quarter                  District  \\\n",
       "0  Andaman and Nicobar Islands  2018        1  North and Middle Andaman   \n",
       "1  Andaman and Nicobar Islands  2018        1             South Andaman   \n",
       "2  Andaman and Nicobar Islands  2018        1                  Nicobars   \n",
       "3  Andaman and Nicobar Islands  2018        2  North and Middle Andaman   \n",
       "4  Andaman and Nicobar Islands  2018        2             South Andaman   \n",
       "\n",
       "   Transaction_Count  Transaction_Amount  \n",
       "0                442        9.316631e+05  \n",
       "1               5688        1.256025e+07  \n",
       "2                528        1.139849e+06  \n",
       "3                825        1.317863e+06  \n",
       "4               9395        2.394824e+07  "
      ]
     },
     "execution_count": 13,
     "metadata": {},
     "output_type": "execute_result"
    }
   ],
   "source": [
    "map_trans_df.head()"
   ]
  },
  {
   "cell_type": "code",
   "execution_count": 14,
   "id": "13d9c1f9",
   "metadata": {},
   "outputs": [
    {
     "data": {
      "text/plain": [
       "State                  object\n",
       "Year                    int64\n",
       "Quarter                 int64\n",
       "District               object\n",
       "Transaction_Count       int64\n",
       "Transaction_Amount    float64\n",
       "dtype: object"
      ]
     },
     "execution_count": 14,
     "metadata": {},
     "output_type": "execute_result"
    }
   ],
   "source": [
    "map_trans_df.dtypes"
   ]
  },
  {
   "cell_type": "markdown",
   "id": "d652a88e",
   "metadata": {},
   "source": [
    "### 4) Map User"
   ]
  },
  {
   "cell_type": "code",
   "execution_count": 15,
   "id": "34535a82",
   "metadata": {},
   "outputs": [],
   "source": [
    "state_path = state_directories[3]\n",
    "state_list = os.listdir(state_path)\n",
    "map_user_dict = {\n",
    "    'State':[], 'Year':[], 'Quarter':[], 'District':[],\n",
    "    'Registered_User':[], 'App_Opens':[]\n",
    "}\n",
    "\n",
    "for state in state_list:\n",
    "    year_path = state_path + '/' + state + '/'\n",
    "    year_list = os.listdir(year_path)\n",
    "    \n",
    "    for quarter in year_list:\n",
    "        quarter_path = year_path + year + '/'\n",
    "        quarter_list = os.listdir(quarter_path)\n",
    "        \n",
    "        for quarter in quarter_list:\n",
    "            json_path = quarter_path + quarter\n",
    "            df = pd.read_json(json_path)\n",
    "            \n",
    "            try:\n",
    "                for district, user_data in df['data']['hoverData'].items():\n",
    "                    reg_user_count = user_data['registeredUsers']\n",
    "                    app_open_count = user_data['appOpens']\n",
    "\n",
    "                    # append to map_user_dict\n",
    "\n",
    "                    map_user_dict['State'].append(state)\n",
    "                    map_user_dict['Year'].append(int(year))\n",
    "                    map_user_dict['Quarter'].append(int(quarter.removesuffix('.json')))\n",
    "                    map_user_dict['District'].append(district.removesuffix(' district').title().replace(' And', ' and').replace('andaman', 'Andaman'))\n",
    "                    map_user_dict['Registered_User'].append(int(reg_user_count))\n",
    "                    map_user_dict['App_Opens'].append(int(app_open_count))\n",
    "            except:\n",
    "                pass\n",
    "            \n",
    "map_user_df = pd.DataFrame(map_user_dict)"
   ]
  },
  {
   "cell_type": "code",
   "execution_count": 16,
   "id": "e8271dde",
   "metadata": {},
   "outputs": [
    {
     "data": {
      "text/html": [
       "<div>\n",
       "<style scoped>\n",
       "    .dataframe tbody tr th:only-of-type {\n",
       "        vertical-align: middle;\n",
       "    }\n",
       "\n",
       "    .dataframe tbody tr th {\n",
       "        vertical-align: top;\n",
       "    }\n",
       "\n",
       "    .dataframe thead th {\n",
       "        text-align: right;\n",
       "    }\n",
       "</style>\n",
       "<table border=\"1\" class=\"dataframe\">\n",
       "  <thead>\n",
       "    <tr style=\"text-align: right;\">\n",
       "      <th></th>\n",
       "      <th>State</th>\n",
       "      <th>Year</th>\n",
       "      <th>Quarter</th>\n",
       "      <th>District</th>\n",
       "      <th>Registered_User</th>\n",
       "      <th>App_Opens</th>\n",
       "    </tr>\n",
       "  </thead>\n",
       "  <tbody>\n",
       "    <tr>\n",
       "      <th>0</th>\n",
       "      <td>Andaman and Nicobar Islands</td>\n",
       "      <td>2022</td>\n",
       "      <td>1</td>\n",
       "      <td>North and Middle Andaman</td>\n",
       "      <td>10720</td>\n",
       "      <td>904869</td>\n",
       "    </tr>\n",
       "    <tr>\n",
       "      <th>1</th>\n",
       "      <td>Andaman and Nicobar Islands</td>\n",
       "      <td>2022</td>\n",
       "      <td>1</td>\n",
       "      <td>South Andaman</td>\n",
       "      <td>63487</td>\n",
       "      <td>2368756</td>\n",
       "    </tr>\n",
       "    <tr>\n",
       "      <th>2</th>\n",
       "      <td>Andaman and Nicobar Islands</td>\n",
       "      <td>2022</td>\n",
       "      <td>1</td>\n",
       "      <td>Nicobars</td>\n",
       "      <td>2081</td>\n",
       "      <td>573782</td>\n",
       "    </tr>\n",
       "    <tr>\n",
       "      <th>3</th>\n",
       "      <td>Andaman and Nicobar Islands</td>\n",
       "      <td>2022</td>\n",
       "      <td>2</td>\n",
       "      <td>North and Middle Andaman</td>\n",
       "      <td>11379</td>\n",
       "      <td>963824</td>\n",
       "    </tr>\n",
       "    <tr>\n",
       "      <th>4</th>\n",
       "      <td>Andaman and Nicobar Islands</td>\n",
       "      <td>2022</td>\n",
       "      <td>2</td>\n",
       "      <td>South Andaman</td>\n",
       "      <td>66959</td>\n",
       "      <td>3404740</td>\n",
       "    </tr>\n",
       "  </tbody>\n",
       "</table>\n",
       "</div>"
      ],
      "text/plain": [
       "                         State  Year  Quarter                  District  \\\n",
       "0  Andaman and Nicobar Islands  2022        1  North and Middle Andaman   \n",
       "1  Andaman and Nicobar Islands  2022        1             South Andaman   \n",
       "2  Andaman and Nicobar Islands  2022        1                  Nicobars   \n",
       "3  Andaman and Nicobar Islands  2022        2  North and Middle Andaman   \n",
       "4  Andaman and Nicobar Islands  2022        2             South Andaman   \n",
       "\n",
       "   Registered_User  App_Opens  \n",
       "0            10720     904869  \n",
       "1            63487    2368756  \n",
       "2             2081     573782  \n",
       "3            11379     963824  \n",
       "4            66959    3404740  "
      ]
     },
     "execution_count": 16,
     "metadata": {},
     "output_type": "execute_result"
    }
   ],
   "source": [
    "map_user_df.head()"
   ]
  },
  {
   "cell_type": "code",
   "execution_count": 17,
   "id": "99d29c0c",
   "metadata": {},
   "outputs": [
    {
     "data": {
      "text/plain": [
       "State              object\n",
       "Year                int64\n",
       "Quarter             int64\n",
       "District           object\n",
       "Registered_User     int64\n",
       "App_Opens           int64\n",
       "dtype: object"
      ]
     },
     "execution_count": 17,
     "metadata": {},
     "output_type": "execute_result"
    }
   ],
   "source": [
    "map_user_df.dtypes"
   ]
  },
  {
   "cell_type": "markdown",
   "id": "259a1f88",
   "metadata": {},
   "source": [
    "### 5) Top transaction district-wise "
   ]
  },
  {
   "cell_type": "code",
   "execution_count": 18,
   "id": "26136281",
   "metadata": {},
   "outputs": [],
   "source": [
    "state_path = state_directories[4]\n",
    "state_list = os.listdir(state_path)\n",
    "top_trans_dist_dict = {\n",
    "    'State':[], 'Year':[], 'Quarter':[], 'District':[],\n",
    "    'Transaction_Count':[], 'Transaction_Amount':[]\n",
    "}\n",
    "\n",
    "for state in state_list:\n",
    "    year_path = state_path + '/' + state + '/'\n",
    "    year_list = os.listdir(year_path)\n",
    "    \n",
    "    for year in year_list:\n",
    "        quarter_path = year_path + year + '/'\n",
    "        quarter_list = os.listdir(quarter_path)\n",
    "        \n",
    "        for quarter in quarter_list:\n",
    "            json_path = quarter_path + quarter \n",
    "            df = pd.read_json(json_path)\n",
    "            \n",
    "            try:\n",
    "                for district_data in df['data']['districts']:\n",
    "                    district = district_data['entityName']\n",
    "                    count = district_data['metric']['count']\n",
    "                    amount = district_data['metric']['amount']\n",
    "\n",
    "                    # append to top_trans_dist_dict\n",
    "\n",
    "                    top_trans_dist_dict['State'].append(state)\n",
    "                    top_trans_dist_dict['Year'].append(int(year))\n",
    "                    top_trans_dist_dict['Quarter'].append(int(quarter.removesuffix('.json')))\n",
    "                    top_trans_dist_dict['District'].append(district.title().replace(' And', ' and').replace('andaman', 'Andaman'))\n",
    "                    top_trans_dist_dict['Transaction_Count'].append(int(count))\n",
    "                    top_trans_dist_dict['Transaction_Amount'].append(float(amount))\n",
    "            except:\n",
    "                pass\n",
    "            \n",
    "top_trans_dist_df = pd.DataFrame(top_trans_dist_dict)"
   ]
  },
  {
   "cell_type": "code",
   "execution_count": 19,
   "id": "422b390d",
   "metadata": {},
   "outputs": [
    {
     "data": {
      "text/html": [
       "<div>\n",
       "<style scoped>\n",
       "    .dataframe tbody tr th:only-of-type {\n",
       "        vertical-align: middle;\n",
       "    }\n",
       "\n",
       "    .dataframe tbody tr th {\n",
       "        vertical-align: top;\n",
       "    }\n",
       "\n",
       "    .dataframe thead th {\n",
       "        text-align: right;\n",
       "    }\n",
       "</style>\n",
       "<table border=\"1\" class=\"dataframe\">\n",
       "  <thead>\n",
       "    <tr style=\"text-align: right;\">\n",
       "      <th></th>\n",
       "      <th>State</th>\n",
       "      <th>Year</th>\n",
       "      <th>Quarter</th>\n",
       "      <th>District</th>\n",
       "      <th>Transaction_Count</th>\n",
       "      <th>Transaction_Amount</th>\n",
       "    </tr>\n",
       "  </thead>\n",
       "  <tbody>\n",
       "    <tr>\n",
       "      <th>0</th>\n",
       "      <td>Andaman and Nicobar Islands</td>\n",
       "      <td>2018</td>\n",
       "      <td>1</td>\n",
       "      <td>South Andaman</td>\n",
       "      <td>5688</td>\n",
       "      <td>1.256025e+07</td>\n",
       "    </tr>\n",
       "    <tr>\n",
       "      <th>1</th>\n",
       "      <td>Andaman and Nicobar Islands</td>\n",
       "      <td>2018</td>\n",
       "      <td>1</td>\n",
       "      <td>Nicobars</td>\n",
       "      <td>528</td>\n",
       "      <td>1.139849e+06</td>\n",
       "    </tr>\n",
       "    <tr>\n",
       "      <th>2</th>\n",
       "      <td>Andaman and Nicobar Islands</td>\n",
       "      <td>2018</td>\n",
       "      <td>1</td>\n",
       "      <td>North and Middle Andaman</td>\n",
       "      <td>442</td>\n",
       "      <td>9.316631e+05</td>\n",
       "    </tr>\n",
       "    <tr>\n",
       "      <th>3</th>\n",
       "      <td>Andaman and Nicobar Islands</td>\n",
       "      <td>2018</td>\n",
       "      <td>2</td>\n",
       "      <td>South Andaman</td>\n",
       "      <td>9395</td>\n",
       "      <td>2.394824e+07</td>\n",
       "    </tr>\n",
       "    <tr>\n",
       "      <th>4</th>\n",
       "      <td>Andaman and Nicobar Islands</td>\n",
       "      <td>2018</td>\n",
       "      <td>2</td>\n",
       "      <td>Nicobars</td>\n",
       "      <td>1120</td>\n",
       "      <td>3.072437e+06</td>\n",
       "    </tr>\n",
       "  </tbody>\n",
       "</table>\n",
       "</div>"
      ],
      "text/plain": [
       "                         State  Year  Quarter                  District  \\\n",
       "0  Andaman and Nicobar Islands  2018        1             South Andaman   \n",
       "1  Andaman and Nicobar Islands  2018        1                  Nicobars   \n",
       "2  Andaman and Nicobar Islands  2018        1  North and Middle Andaman   \n",
       "3  Andaman and Nicobar Islands  2018        2             South Andaman   \n",
       "4  Andaman and Nicobar Islands  2018        2                  Nicobars   \n",
       "\n",
       "   Transaction_Count  Transaction_Amount  \n",
       "0               5688        1.256025e+07  \n",
       "1                528        1.139849e+06  \n",
       "2                442        9.316631e+05  \n",
       "3               9395        2.394824e+07  \n",
       "4               1120        3.072437e+06  "
      ]
     },
     "execution_count": 19,
     "metadata": {},
     "output_type": "execute_result"
    }
   ],
   "source": [
    "top_trans_dist_df.head()"
   ]
  },
  {
   "cell_type": "code",
   "execution_count": 20,
   "id": "306599ec",
   "metadata": {},
   "outputs": [
    {
     "data": {
      "text/plain": [
       "State                  object\n",
       "Year                    int64\n",
       "Quarter                 int64\n",
       "District               object\n",
       "Transaction_Count       int64\n",
       "Transaction_Amount    float64\n",
       "dtype: object"
      ]
     },
     "execution_count": 20,
     "metadata": {},
     "output_type": "execute_result"
    }
   ],
   "source": [
    "top_trans_dist_df.dtypes"
   ]
  },
  {
   "cell_type": "markdown",
   "id": "ed05f11d",
   "metadata": {},
   "source": [
    "### 6) Top transaction pincode-wise"
   ]
  },
  {
   "cell_type": "code",
   "execution_count": 21,
   "id": "122a82e0",
   "metadata": {},
   "outputs": [],
   "source": [
    "state_path = state_directories[4]\n",
    "state_list = os.listdir(state_path)\n",
    "top_trans_pin_dict = {\n",
    "    'State':[], 'Year':[], 'Quarter':[], 'Pincode':[],\n",
    "    'Transaction_Count':[], 'Transaction_Amount':[]\n",
    "}\n",
    "\n",
    "for state in state_list:\n",
    "    year_path = state_path + '/' + state + '/'\n",
    "    year_list = os.listdir(year_path)\n",
    "    \n",
    "    for year in year_list:\n",
    "        quarter_path = year_path + year + '/'\n",
    "        quarter_list = os.listdir(quarter_path)\n",
    "        \n",
    "        for quarter in quarter_list:\n",
    "            json_path = quarter_path + quarter\n",
    "            df = pd.read_json(json_path)\n",
    "            \n",
    "            try: \n",
    "                for regional_data in df['data']['pincodes']:\n",
    "                    pin = regional_data['entityName']\n",
    "                    count = regional_data['metric']['count']\n",
    "                    amount = regional_data['metric']['amount']\n",
    "\n",
    "                    # append to top_trans_pin_dict\n",
    "\n",
    "                    top_trans_pin_dict['State'].append(state)\n",
    "                    top_trans_pin_dict['Year'].append(int(year))\n",
    "                    top_trans_pin_dict['Quarter'].append(int(quarter.removesuffix('.json')))\n",
    "                    top_trans_pin_dict['Pincode'].append(pin)\n",
    "                    top_trans_pin_dict['Transaction_Count'].append(int(count))\n",
    "                    top_trans_pin_dict['Transaction_Amount'].append(float(amount))\n",
    "            except:\n",
    "                pass\n",
    "            \n",
    "top_trans_pin_df = pd.DataFrame(top_trans_pin_dict)\n",
    "top_trans_pin_df = top_trans_pin_df.dropna() \n",
    "top_trans_pin_df.Pincode = top_trans_pin_df.Pincode.astype('int64')"
   ]
  },
  {
   "cell_type": "code",
   "execution_count": 22,
   "id": "4274cdca",
   "metadata": {},
   "outputs": [
    {
     "data": {
      "text/html": [
       "<div>\n",
       "<style scoped>\n",
       "    .dataframe tbody tr th:only-of-type {\n",
       "        vertical-align: middle;\n",
       "    }\n",
       "\n",
       "    .dataframe tbody tr th {\n",
       "        vertical-align: top;\n",
       "    }\n",
       "\n",
       "    .dataframe thead th {\n",
       "        text-align: right;\n",
       "    }\n",
       "</style>\n",
       "<table border=\"1\" class=\"dataframe\">\n",
       "  <thead>\n",
       "    <tr style=\"text-align: right;\">\n",
       "      <th></th>\n",
       "      <th>State</th>\n",
       "      <th>Year</th>\n",
       "      <th>Quarter</th>\n",
       "      <th>Pincode</th>\n",
       "      <th>Transaction_Count</th>\n",
       "      <th>Transaction_Amount</th>\n",
       "    </tr>\n",
       "  </thead>\n",
       "  <tbody>\n",
       "    <tr>\n",
       "      <th>0</th>\n",
       "      <td>Andaman and Nicobar Islands</td>\n",
       "      <td>2018</td>\n",
       "      <td>1</td>\n",
       "      <td>744101</td>\n",
       "      <td>1622</td>\n",
       "      <td>2.769298e+06</td>\n",
       "    </tr>\n",
       "    <tr>\n",
       "      <th>1</th>\n",
       "      <td>Andaman and Nicobar Islands</td>\n",
       "      <td>2018</td>\n",
       "      <td>1</td>\n",
       "      <td>744103</td>\n",
       "      <td>1223</td>\n",
       "      <td>2.238042e+06</td>\n",
       "    </tr>\n",
       "    <tr>\n",
       "      <th>2</th>\n",
       "      <td>Andaman and Nicobar Islands</td>\n",
       "      <td>2018</td>\n",
       "      <td>1</td>\n",
       "      <td>744102</td>\n",
       "      <td>969</td>\n",
       "      <td>3.519060e+06</td>\n",
       "    </tr>\n",
       "    <tr>\n",
       "      <th>3</th>\n",
       "      <td>Andaman and Nicobar Islands</td>\n",
       "      <td>2018</td>\n",
       "      <td>1</td>\n",
       "      <td>744105</td>\n",
       "      <td>685</td>\n",
       "      <td>1.298561e+06</td>\n",
       "    </tr>\n",
       "    <tr>\n",
       "      <th>4</th>\n",
       "      <td>Andaman and Nicobar Islands</td>\n",
       "      <td>2018</td>\n",
       "      <td>1</td>\n",
       "      <td>744104</td>\n",
       "      <td>340</td>\n",
       "      <td>1.039715e+06</td>\n",
       "    </tr>\n",
       "  </tbody>\n",
       "</table>\n",
       "</div>"
      ],
      "text/plain": [
       "                         State  Year  Quarter  Pincode  Transaction_Count  \\\n",
       "0  Andaman and Nicobar Islands  2018        1   744101               1622   \n",
       "1  Andaman and Nicobar Islands  2018        1   744103               1223   \n",
       "2  Andaman and Nicobar Islands  2018        1   744102                969   \n",
       "3  Andaman and Nicobar Islands  2018        1   744105                685   \n",
       "4  Andaman and Nicobar Islands  2018        1   744104                340   \n",
       "\n",
       "   Transaction_Amount  \n",
       "0        2.769298e+06  \n",
       "1        2.238042e+06  \n",
       "2        3.519060e+06  \n",
       "3        1.298561e+06  \n",
       "4        1.039715e+06  "
      ]
     },
     "execution_count": 22,
     "metadata": {},
     "output_type": "execute_result"
    }
   ],
   "source": [
    "top_trans_pin_df.head()"
   ]
  },
  {
   "cell_type": "code",
   "execution_count": 23,
   "id": "5c6b8e84",
   "metadata": {},
   "outputs": [
    {
     "data": {
      "text/plain": [
       "State                  object\n",
       "Year                    int64\n",
       "Quarter                 int64\n",
       "Pincode                 int64\n",
       "Transaction_Count       int64\n",
       "Transaction_Amount    float64\n",
       "dtype: object"
      ]
     },
     "execution_count": 23,
     "metadata": {},
     "output_type": "execute_result"
    }
   ],
   "source": [
    "top_trans_pin_df.dtypes"
   ]
  },
  {
   "cell_type": "markdown",
   "id": "45f52d56",
   "metadata": {},
   "source": [
    "### 7) Top User District-wise"
   ]
  },
  {
   "cell_type": "code",
   "execution_count": 24,
   "id": "7a21f861",
   "metadata": {},
   "outputs": [],
   "source": [
    "state_path = state_directories[5]\n",
    "state_list = os.listdir(state_path)\n",
    "top_user_dist_dict = {\n",
    "    'State':[], 'Year':[], 'Quarter':[],\n",
    "    'District':[], 'Registered_User':[]\n",
    "}\n",
    "\n",
    "for state in state_list:\n",
    "    year_path = state_path + '/' + state + '/'\n",
    "    year_list = os.listdir(year_path)\n",
    "    \n",
    "    for year in year_list:\n",
    "        quarter_path = year_path + year + '/'\n",
    "        quarter_list = os.listdir(quarter_path)\n",
    "        \n",
    "        for quarter in quarter_list:\n",
    "            json_path = quarter_path + quarter\n",
    "            df = pd.read_json(json_path)\n",
    "            \n",
    "            try:\n",
    "                for district_data in df['data']['districts']:\n",
    "                    dist = district_data['name']\n",
    "                    reg_user = district_data['registeredUsers']\n",
    "\n",
    "                    # append to top_user_dist_dict\n",
    "\n",
    "                    top_user_dist_dict['State'].append(state)\n",
    "                    top_user_dist_dict['Year'].append(int(year))\n",
    "                    top_user_dist_dict['Quarter'].append(int(quarter.removesuffix('.json')))\n",
    "                    top_user_dist_dict['District'].append(dist.title().replace(' And', ' and').replace('andaman', 'Andaman'))\n",
    "                    top_user_dist_dict['Registered_User'].append(int(reg_user))\n",
    "            except:\n",
    "                pass\n",
    "            \n",
    "top_user_dist_df = pd.DataFrame(top_user_dist_dict)\n"
   ]
  },
  {
   "cell_type": "code",
   "execution_count": 25,
   "id": "01c00629",
   "metadata": {},
   "outputs": [
    {
     "data": {
      "text/html": [
       "<div>\n",
       "<style scoped>\n",
       "    .dataframe tbody tr th:only-of-type {\n",
       "        vertical-align: middle;\n",
       "    }\n",
       "\n",
       "    .dataframe tbody tr th {\n",
       "        vertical-align: top;\n",
       "    }\n",
       "\n",
       "    .dataframe thead th {\n",
       "        text-align: right;\n",
       "    }\n",
       "</style>\n",
       "<table border=\"1\" class=\"dataframe\">\n",
       "  <thead>\n",
       "    <tr style=\"text-align: right;\">\n",
       "      <th></th>\n",
       "      <th>State</th>\n",
       "      <th>Year</th>\n",
       "      <th>Quarter</th>\n",
       "      <th>District</th>\n",
       "      <th>Registered_User</th>\n",
       "    </tr>\n",
       "  </thead>\n",
       "  <tbody>\n",
       "    <tr>\n",
       "      <th>0</th>\n",
       "      <td>Andaman and Nicobar Islands</td>\n",
       "      <td>2018</td>\n",
       "      <td>1</td>\n",
       "      <td>South Andaman</td>\n",
       "      <td>5846</td>\n",
       "    </tr>\n",
       "    <tr>\n",
       "      <th>1</th>\n",
       "      <td>Andaman and Nicobar Islands</td>\n",
       "      <td>2018</td>\n",
       "      <td>1</td>\n",
       "      <td>North and Middle Andaman</td>\n",
       "      <td>632</td>\n",
       "    </tr>\n",
       "    <tr>\n",
       "      <th>2</th>\n",
       "      <td>Andaman and Nicobar Islands</td>\n",
       "      <td>2018</td>\n",
       "      <td>1</td>\n",
       "      <td>Nicobars</td>\n",
       "      <td>262</td>\n",
       "    </tr>\n",
       "    <tr>\n",
       "      <th>3</th>\n",
       "      <td>Andaman and Nicobar Islands</td>\n",
       "      <td>2018</td>\n",
       "      <td>2</td>\n",
       "      <td>South Andaman</td>\n",
       "      <td>8143</td>\n",
       "    </tr>\n",
       "    <tr>\n",
       "      <th>4</th>\n",
       "      <td>Andaman and Nicobar Islands</td>\n",
       "      <td>2018</td>\n",
       "      <td>2</td>\n",
       "      <td>North and Middle Andaman</td>\n",
       "      <td>911</td>\n",
       "    </tr>\n",
       "  </tbody>\n",
       "</table>\n",
       "</div>"
      ],
      "text/plain": [
       "                         State  Year  Quarter                  District  \\\n",
       "0  Andaman and Nicobar Islands  2018        1             South Andaman   \n",
       "1  Andaman and Nicobar Islands  2018        1  North and Middle Andaman   \n",
       "2  Andaman and Nicobar Islands  2018        1                  Nicobars   \n",
       "3  Andaman and Nicobar Islands  2018        2             South Andaman   \n",
       "4  Andaman and Nicobar Islands  2018        2  North and Middle Andaman   \n",
       "\n",
       "   Registered_User  \n",
       "0             5846  \n",
       "1              632  \n",
       "2              262  \n",
       "3             8143  \n",
       "4              911  "
      ]
     },
     "execution_count": 25,
     "metadata": {},
     "output_type": "execute_result"
    }
   ],
   "source": [
    "top_user_dist_df.head()"
   ]
  },
  {
   "cell_type": "code",
   "execution_count": 26,
   "id": "0e9a7c75",
   "metadata": {},
   "outputs": [
    {
     "data": {
      "text/plain": [
       "State              object\n",
       "Year                int64\n",
       "Quarter             int64\n",
       "District           object\n",
       "Registered_User     int64\n",
       "dtype: object"
      ]
     },
     "execution_count": 26,
     "metadata": {},
     "output_type": "execute_result"
    }
   ],
   "source": [
    "top_user_dist_df.dtypes"
   ]
  },
  {
   "cell_type": "markdown",
   "id": "48f8c5e5",
   "metadata": {},
   "source": [
    "### 8) Top user pincode-wise"
   ]
  },
  {
   "cell_type": "code",
   "execution_count": 27,
   "id": "75320c58",
   "metadata": {},
   "outputs": [],
   "source": [
    "state_path = state_directories[5]\n",
    "state_list = os.listdir(state_path)\n",
    "top_user_pin_dict = {\n",
    "    'State':[], 'Year':[], 'Quarter':[],\n",
    "    'Pincode':[], 'Registered_User':[]\n",
    "}\n",
    "\n",
    "for state in state_list:\n",
    "    year_path = state_path + '/' + state + '/'\n",
    "    year_list = os.listdir(year_path)\n",
    "    \n",
    "    for year in year_list:\n",
    "        quarter_path = year_path + year + '/'\n",
    "        quarter_list = os.listdir(quarter_path)\n",
    "        \n",
    "        for quarter in quarter_list:\n",
    "            json_path = quarter_path + quarter \n",
    "            df = pd.read_json(json_path)\n",
    "            \n",
    "            try: \n",
    "                for user_data in df['data']['pincodes']:\n",
    "                    pin = user_data['name']\n",
    "                    user = user_data['registeredUsers']\n",
    "                    \n",
    "                    # append to top_user_pin_dict\n",
    "                    \n",
    "                    top_user_pin_dict['State'].append(state)\n",
    "                    top_user_pin_dict['Year'].append(int(year))\n",
    "                    top_user_pin_dict['Quarter'].append(int(quarter.removesuffix('.json')))\n",
    "                    top_user_pin_dict['Pincode'].append(pin)\n",
    "                    top_user_pin_dict['Registered_User'].append(int(user))\n",
    "            except:\n",
    "                pass\n",
    "            \n",
    "top_user_pin_df = pd.DataFrame(top_user_pin_dict)\n",
    "top_user_pin_df.dropna(inplace=True)\n",
    "top_user_pin_df.Pincode = top_user_pin_df.Pincode.astype('int64')"
   ]
  },
  {
   "cell_type": "code",
   "execution_count": 28,
   "id": "0125bc8c",
   "metadata": {},
   "outputs": [
    {
     "data": {
      "text/html": [
       "<div>\n",
       "<style scoped>\n",
       "    .dataframe tbody tr th:only-of-type {\n",
       "        vertical-align: middle;\n",
       "    }\n",
       "\n",
       "    .dataframe tbody tr th {\n",
       "        vertical-align: top;\n",
       "    }\n",
       "\n",
       "    .dataframe thead th {\n",
       "        text-align: right;\n",
       "    }\n",
       "</style>\n",
       "<table border=\"1\" class=\"dataframe\">\n",
       "  <thead>\n",
       "    <tr style=\"text-align: right;\">\n",
       "      <th></th>\n",
       "      <th>State</th>\n",
       "      <th>Year</th>\n",
       "      <th>Quarter</th>\n",
       "      <th>Pincode</th>\n",
       "      <th>Registered_User</th>\n",
       "    </tr>\n",
       "  </thead>\n",
       "  <tbody>\n",
       "    <tr>\n",
       "      <th>0</th>\n",
       "      <td>Andaman and Nicobar Islands</td>\n",
       "      <td>2018</td>\n",
       "      <td>1</td>\n",
       "      <td>744103</td>\n",
       "      <td>1608</td>\n",
       "    </tr>\n",
       "    <tr>\n",
       "      <th>1</th>\n",
       "      <td>Andaman and Nicobar Islands</td>\n",
       "      <td>2018</td>\n",
       "      <td>1</td>\n",
       "      <td>744101</td>\n",
       "      <td>1108</td>\n",
       "    </tr>\n",
       "    <tr>\n",
       "      <th>2</th>\n",
       "      <td>Andaman and Nicobar Islands</td>\n",
       "      <td>2018</td>\n",
       "      <td>1</td>\n",
       "      <td>744105</td>\n",
       "      <td>1075</td>\n",
       "    </tr>\n",
       "    <tr>\n",
       "      <th>3</th>\n",
       "      <td>Andaman and Nicobar Islands</td>\n",
       "      <td>2018</td>\n",
       "      <td>1</td>\n",
       "      <td>744102</td>\n",
       "      <td>1006</td>\n",
       "    </tr>\n",
       "    <tr>\n",
       "      <th>4</th>\n",
       "      <td>Andaman and Nicobar Islands</td>\n",
       "      <td>2018</td>\n",
       "      <td>1</td>\n",
       "      <td>744104</td>\n",
       "      <td>272</td>\n",
       "    </tr>\n",
       "  </tbody>\n",
       "</table>\n",
       "</div>"
      ],
      "text/plain": [
       "                         State  Year  Quarter  Pincode  Registered_User\n",
       "0  Andaman and Nicobar Islands  2018        1   744103             1608\n",
       "1  Andaman and Nicobar Islands  2018        1   744101             1108\n",
       "2  Andaman and Nicobar Islands  2018        1   744105             1075\n",
       "3  Andaman and Nicobar Islands  2018        1   744102             1006\n",
       "4  Andaman and Nicobar Islands  2018        1   744104              272"
      ]
     },
     "execution_count": 28,
     "metadata": {},
     "output_type": "execute_result"
    }
   ],
   "source": [
    "top_user_pin_df.head()"
   ]
  },
  {
   "cell_type": "code",
   "execution_count": 29,
   "id": "7669bed8",
   "metadata": {},
   "outputs": [
    {
     "data": {
      "text/plain": [
       "State              object\n",
       "Year                int64\n",
       "Quarter             int64\n",
       "Pincode             int64\n",
       "Registered_User     int64\n",
       "dtype: object"
      ]
     },
     "execution_count": 29,
     "metadata": {},
     "output_type": "execute_result"
    }
   ],
   "source": [
    "top_user_pin_df.dtypes"
   ]
  },
  {
   "cell_type": "markdown",
   "id": "f24665f4",
   "metadata": {},
   "source": [
    "#### List of DataFrames created"
   ]
  },
  {
   "cell_type": "code",
   "execution_count": 30,
   "id": "14291a55",
   "metadata": {
    "scrolled": true
   },
   "outputs": [
    {
     "data": {
      "text/plain": [
       "['agg_trans_df',\n",
       " 'agg_user_df',\n",
       " 'map_trans_df',\n",
       " 'map_user_df',\n",
       " 'top_trans_dist_df',\n",
       " 'top_trans_pin_df',\n",
       " 'top_user_dist_df',\n",
       " 'top_user_pin_df']"
      ]
     },
     "execution_count": 30,
     "metadata": {},
     "output_type": "execute_result"
    }
   ],
   "source": [
    "df_list = [df for df in globals() if isinstance(globals()[df], pd.core.frame.DataFrame) and df.endswith('_df')]\n",
    "df_list"
   ]
  },
  {
   "cell_type": "markdown",
   "id": "bb145a0f",
   "metadata": {},
   "source": [
    "### Removing Delhi Districts to manage inconsistency"
   ]
  },
  {
   "cell_type": "code",
   "execution_count": 31,
   "id": "20db07bd",
   "metadata": {},
   "outputs": [
    {
     "name": "stdout",
     "output_type": "stream",
     "text": [
      "None\n",
      "None\n",
      "None\n",
      "None\n",
      "None\n",
      "None\n",
      "None\n",
      "None\n"
     ]
    }
   ],
   "source": [
    "def add_suffix_to_districts(df):\n",
    "    if 'District' in df.columns and 'State' in df.columns:\n",
    "        delhi_df = df[df['State'] == 'Delhi']\n",
    "        \n",
    "        districts_to_suffix = [ d for d in delhi_df['District'].unique() if d != 'Shahdara']\n",
    "        \n",
    "        df.loc[(df['State']=='Delhi') & (df['District'].isin(districts_to_suffix)), 'District'] = df.loc[(df['State']=='Delhi') & (df['District'].isin(districts_to_suffix)), 'District'].apply(lambda a : a+'Delhi' if 'Delhi' not in a else a)\n",
    "        \n",
    "for df_name in df_list:\n",
    "    df = globals()[df_name]\n",
    "    add_suffix_to_districts(df)\n",
    "    print(add_suffix_to_districts(df))"
   ]
  },
  {
   "cell_type": "markdown",
   "id": "4a7cc0a5",
   "metadata": {},
   "source": [
    "### Adding Latitude and Longitude columns"
   ]
  },
  {
   "cell_type": "code",
   "execution_count": 32,
   "id": "806c6314",
   "metadata": {},
   "outputs": [],
   "source": [
    "lat_long_df = pd.read_csv(r'D:\\Desktop\\Projects\\Phonepy\\Datas\\Miscellaneous\\dist_lat_long.csv')\n",
    "\n",
    "for df_name in df_list:\n",
    "    df = globals()[df_name]\n",
    "    if 'District' in df.columns:\n",
    "        df = pd.merge(df, lat_long_df, on=['State', 'District'], how='left')\n",
    "        globals()[df_name] = df\n"
   ]
  },
  {
   "cell_type": "markdown",
   "id": "46bb80a2",
   "metadata": {},
   "source": [
    "### Adding region column to all dataframes"
   ]
  },
  {
   "cell_type": "code",
   "execution_count": 33,
   "id": "d20184f6",
   "metadata": {},
   "outputs": [],
   "source": [
    "def add_region_column(df):\n",
    "    state_groups = {\n",
    "        'Northern Region': ['Jammu and Kashmir', 'Himachal Pradesh', 'Punjab', 'Chandigarh', 'Uttarakhand', 'Ladakh', 'Delhi', 'Haryana'],\n",
    "        'Central Region': ['Uttar Pradesh', 'Madhya Pradesh', 'Chhattisgarh'],\n",
    "        'Western Region': ['Rajasthan', 'Gujarat', 'Dadra and Nagar Haveli and Daman and Diu', 'Maharashtra'],\n",
    "        'Eastern Region': ['Bihar', 'Jharkhand', 'Odisha', 'West Bengal', 'Sikkim'],\n",
    "        'Southern Region': ['Andhra Pradesh', 'Telangana', 'Karnataka', 'Kerala', 'Tamil Nadu', 'Puducherry', 'Goa', 'Lakshadweep', 'Andaman and Nicobar Islands'],\n",
    "        'North-Eastern Region': ['Assam', 'Meghalaya', 'Manipur', 'Nagaland', 'Tripura', 'Arunachal Pradesh', 'Mizoram']\n",
    "    }\n",
    "    \n",
    "    df['Region'] = df['State'].map({state: region for region, states in state_groups.items() for state in states})\n",
    "    return df"
   ]
  },
  {
   "cell_type": "code",
   "execution_count": 34,
   "id": "a107a944",
   "metadata": {},
   "outputs": [],
   "source": [
    "for df_name in df_list:\n",
    "    df = globals()[df_name]\n",
    "    add_region_column(df)"
   ]
  },
  {
   "cell_type": "markdown",
   "id": "0c395fe2",
   "metadata": {},
   "source": [
    "### Columnwise null count and duplicated rows count"
   ]
  },
  {
   "cell_type": "code",
   "execution_count": 35,
   "id": "6f0b7e75",
   "metadata": {},
   "outputs": [
    {
     "name": "stdout",
     "output_type": "stream",
     "text": [
      "agg_trans_df\n",
      "null count : \n",
      "0\n",
      "null count : \n",
      "0\n",
      "dropped dup : False\n",
      "duplicated row count : 0\n",
      "(3594, 7)\n",
      "\n",
      " ________________________________________________________________________________ \n",
      "\n",
      "agg_user_df\n",
      "null count : \n",
      "0\n",
      "null count : \n",
      "0\n",
      "dropped dup : False\n",
      "duplicated row count : 0\n",
      "(6732, 7)\n",
      "\n",
      " ________________________________________________________________________________ \n",
      "\n",
      "map_trans_df\n",
      "null count : \n",
      "320\n",
      "null count : \n",
      "0\n",
      "dropped dup : False\n",
      "duplicated row count : 0\n",
      "(14476, 9)\n",
      "\n",
      " ________________________________________________________________________________ \n",
      "\n",
      "map_user_df\n",
      "null count : \n",
      "320\n",
      "null count : \n",
      "0\n",
      "dropped dup : False\n",
      "duplicated row count : 0\n",
      "(2896, 9)\n",
      "\n",
      " ________________________________________________________________________________ \n",
      "\n",
      "top_trans_dist_df\n",
      "null count : \n",
      "248\n",
      "null count : \n",
      "0\n",
      "dropped dup : False\n",
      "duplicated row count : 0\n",
      "(5796, 9)\n",
      "\n",
      " ________________________________________________________________________________ \n",
      "\n",
      "top_trans_pin_df\n",
      "null count : \n",
      "0\n",
      "null count : \n",
      "0\n",
      "dropped dup : False\n",
      "duplicated row count : 0\n",
      "(7137, 7)\n",
      "\n",
      " ________________________________________________________________________________ \n",
      "\n",
      "top_user_dist_df\n",
      "null count : \n",
      "240\n",
      "null count : \n",
      "0\n",
      "dropped dup : False\n",
      "duplicated row count : 0\n",
      "(5800, 8)\n",
      "\n",
      " ________________________________________________________________________________ \n",
      "\n",
      "top_user_pin_df\n",
      "null count : \n",
      "0\n",
      "null count : \n",
      "0\n",
      "dropped dup : False\n",
      "duplicated row count : 0\n",
      "(7140, 6)\n",
      "\n",
      " ________________________________________________________________________________ \n",
      "\n"
     ]
    }
   ],
   "source": [
    "for df_name in df_list:\n",
    "    df = globals()[df_name]\n",
    "    print(f'{df_name}')\n",
    "    print(f'null count : \\n{df.isnull().sum().sum()}')\n",
    "    df = df.drop_duplicates()\n",
    "    df = df.dropna()\n",
    "    print(f'null count : \\n{df.isnull().sum().sum()}')\n",
    "    print(f'dropped dup : {df.duplicated().any()}')\n",
    "    print(f'duplicated row count : {df.duplicated().sum()}')\n",
    "    print(df.shape)\n",
    "    print('\\n', 80*'_', '\\n')"
   ]
  },
  {
   "cell_type": "code",
   "execution_count": 36,
   "id": "eec9955c",
   "metadata": {},
   "outputs": [
    {
     "name": "stdout",
     "output_type": "stream",
     "text": [
      "Dataframe info : \n",
      "\n",
      "agg_trans_df: \n",
      "\n",
      "<class 'pandas.core.frame.DataFrame'>\n",
      "RangeIndex: 3594 entries, 0 to 3593\n",
      "Data columns (total 7 columns):\n",
      " #   Column              Non-Null Count  Dtype  \n",
      "---  ------              --------------  -----  \n",
      " 0   State               3594 non-null   object \n",
      " 1   Year                3594 non-null   int64  \n",
      " 2   Quarter             3594 non-null   int64  \n",
      " 3   Transaction_Type    3594 non-null   object \n",
      " 4   Transaction_Count   3594 non-null   int64  \n",
      " 5   Transaction_Amount  3594 non-null   float64\n",
      " 6   Region              3594 non-null   object \n",
      "dtypes: float64(1), int64(3), object(3)\n",
      "memory usage: 196.7+ KB\n",
      "\n",
      " ___________________________________________________________________________ \n",
      "\n",
      "agg_user_df: \n",
      "\n",
      "<class 'pandas.core.frame.DataFrame'>\n",
      "RangeIndex: 6732 entries, 0 to 6731\n",
      "Data columns (total 7 columns):\n",
      " #   Column             Non-Null Count  Dtype  \n",
      "---  ------             --------------  -----  \n",
      " 0   State              6732 non-null   object \n",
      " 1   Year               6732 non-null   int64  \n",
      " 2   Quarter            6732 non-null   int64  \n",
      " 3   Brand              6732 non-null   object \n",
      " 4   Transaction_Count  6732 non-null   int64  \n",
      " 5   Percentage         6732 non-null   float64\n",
      " 6   Region             6732 non-null   object \n",
      "dtypes: float64(1), int64(3), object(3)\n",
      "memory usage: 368.3+ KB\n",
      "\n",
      " ___________________________________________________________________________ \n",
      "\n",
      "map_trans_df: \n",
      "\n",
      "<class 'pandas.core.frame.DataFrame'>\n",
      "RangeIndex: 14636 entries, 0 to 14635\n",
      "Data columns (total 9 columns):\n",
      " #   Column              Non-Null Count  Dtype  \n",
      "---  ------              --------------  -----  \n",
      " 0   State               14636 non-null  object \n",
      " 1   Year                14636 non-null  int64  \n",
      " 2   Quarter             14636 non-null  int64  \n",
      " 3   District            14636 non-null  object \n",
      " 4   Transaction_Count   14636 non-null  int64  \n",
      " 5   Transaction_Amount  14636 non-null  float64\n",
      " 6   Latitude            14476 non-null  float64\n",
      " 7   Longitude           14476 non-null  float64\n",
      " 8   Region              14636 non-null  object \n",
      "dtypes: float64(3), int64(3), object(3)\n",
      "memory usage: 1.0+ MB\n",
      "\n",
      " ___________________________________________________________________________ \n",
      "\n",
      "map_user_df: \n",
      "\n",
      "<class 'pandas.core.frame.DataFrame'>\n",
      "RangeIndex: 14640 entries, 0 to 14639\n",
      "Data columns (total 9 columns):\n",
      " #   Column           Non-Null Count  Dtype  \n",
      "---  ------           --------------  -----  \n",
      " 0   State            14640 non-null  object \n",
      " 1   Year             14640 non-null  int64  \n",
      " 2   Quarter          14640 non-null  int64  \n",
      " 3   District         14640 non-null  object \n",
      " 4   Registered_User  14640 non-null  int64  \n",
      " 5   App_Opens        14640 non-null  int64  \n",
      " 6   Latitude         14480 non-null  float64\n",
      " 7   Longitude        14480 non-null  float64\n",
      " 8   Region           14640 non-null  object \n",
      "dtypes: float64(2), int64(4), object(3)\n",
      "memory usage: 1.0+ MB\n",
      "\n",
      " ___________________________________________________________________________ \n",
      "\n",
      "top_trans_dist_df: \n",
      "\n",
      "<class 'pandas.core.frame.DataFrame'>\n",
      "RangeIndex: 5920 entries, 0 to 5919\n",
      "Data columns (total 9 columns):\n",
      " #   Column              Non-Null Count  Dtype  \n",
      "---  ------              --------------  -----  \n",
      " 0   State               5920 non-null   object \n",
      " 1   Year                5920 non-null   int64  \n",
      " 2   Quarter             5920 non-null   int64  \n",
      " 3   District            5920 non-null   object \n",
      " 4   Transaction_Count   5920 non-null   int64  \n",
      " 5   Transaction_Amount  5920 non-null   float64\n",
      " 6   Latitude            5796 non-null   float64\n",
      " 7   Longitude           5796 non-null   float64\n",
      " 8   Region              5920 non-null   object \n",
      "dtypes: float64(3), int64(3), object(3)\n",
      "memory usage: 416.4+ KB\n",
      "\n",
      " ___________________________________________________________________________ \n",
      "\n",
      "top_trans_pin_df: \n",
      "\n",
      "<class 'pandas.core.frame.DataFrame'>\n",
      "Index: 7137 entries, 0 to 7138\n",
      "Data columns (total 7 columns):\n",
      " #   Column              Non-Null Count  Dtype  \n",
      "---  ------              --------------  -----  \n",
      " 0   State               7137 non-null   object \n",
      " 1   Year                7137 non-null   int64  \n",
      " 2   Quarter             7137 non-null   int64  \n",
      " 3   Pincode             7137 non-null   int64  \n",
      " 4   Transaction_Count   7137 non-null   int64  \n",
      " 5   Transaction_Amount  7137 non-null   float64\n",
      " 6   Region              7137 non-null   object \n",
      "dtypes: float64(1), int64(4), object(2)\n",
      "memory usage: 446.1+ KB\n",
      "\n",
      " ___________________________________________________________________________ \n",
      "\n",
      "top_user_dist_df: \n",
      "\n",
      "<class 'pandas.core.frame.DataFrame'>\n",
      "RangeIndex: 5920 entries, 0 to 5919\n",
      "Data columns (total 8 columns):\n",
      " #   Column           Non-Null Count  Dtype  \n",
      "---  ------           --------------  -----  \n",
      " 0   State            5920 non-null   object \n",
      " 1   Year             5920 non-null   int64  \n",
      " 2   Quarter          5920 non-null   int64  \n",
      " 3   District         5920 non-null   object \n",
      " 4   Registered_User  5920 non-null   int64  \n",
      " 5   Latitude         5800 non-null   float64\n",
      " 6   Longitude        5800 non-null   float64\n",
      " 7   Region           5920 non-null   object \n",
      "dtypes: float64(2), int64(3), object(3)\n",
      "memory usage: 370.1+ KB\n",
      "\n",
      " ___________________________________________________________________________ \n",
      "\n",
      "top_user_pin_df: \n",
      "\n",
      "<class 'pandas.core.frame.DataFrame'>\n",
      "RangeIndex: 7140 entries, 0 to 7139\n",
      "Data columns (total 6 columns):\n",
      " #   Column           Non-Null Count  Dtype \n",
      "---  ------           --------------  ----- \n",
      " 0   State            7140 non-null   object\n",
      " 1   Year             7140 non-null   int64 \n",
      " 2   Quarter          7140 non-null   int64 \n",
      " 3   Pincode          7140 non-null   int64 \n",
      " 4   Registered_User  7140 non-null   int64 \n",
      " 5   Region           7140 non-null   object\n",
      "dtypes: int64(4), object(2)\n",
      "memory usage: 334.8+ KB\n",
      "\n",
      " ___________________________________________________________________________ \n",
      "\n"
     ]
    }
   ],
   "source": [
    "print('Dataframe info : \\n')\n",
    "\n",
    "for df_name in df_list:\n",
    "    df = globals()[df_name]\n",
    "    print(df_name + ': \\n')\n",
    "    df.info()\n",
    "    print('\\n', 75*'_', '\\n')"
   ]
  },
  {
   "cell_type": "code",
   "execution_count": 37,
   "id": "0f4a4c31",
   "metadata": {},
   "outputs": [
    {
     "name": "stdout",
     "output_type": "stream",
     "text": [
      "agg_trans_df\n",
      "agg_user_df\n",
      "map_trans_df\n",
      "map_user_df\n",
      "top_trans_dist_df\n",
      "top_trans_pin_df\n",
      "top_user_dist_df\n",
      "top_user_pin_df\n"
     ]
    }
   ],
   "source": [
    "for df_name in df_list:\n",
    "    print(df_name)"
   ]
  },
  {
   "cell_type": "code",
   "execution_count": 38,
   "id": "1a7898e3",
   "metadata": {},
   "outputs": [],
   "source": [
    "agg_trans_df = agg_trans_df.dropna()\n",
    "agg_user_df = agg_user_df.dropna()\n",
    "map_trans_df = map_trans_df.dropna()\n",
    "map_user_df = map_user_df.dropna()\n",
    "top_trans_dist_df = top_trans_dist_df.dropna()\n",
    "top_trans_pin_df = top_trans_pin_df.dropna()\n",
    "top_user_dist_df = top_user_dist_df.dropna()\n",
    "top_user_pin_df = top_user_pin_df.dropna()"
   ]
  },
  {
   "cell_type": "code",
   "execution_count": 39,
   "id": "d72cd9ec",
   "metadata": {},
   "outputs": [],
   "source": [
    "agg_trans_df = agg_trans_df.drop_duplicates()\n",
    "agg_user_df = agg_user_df.drop_duplicates()\n",
    "map_trans_df = map_trans_df.drop_duplicates()\n",
    "map_user_df = map_user_df.drop_duplicates()\n",
    "top_trans_dist_df = top_trans_dist_df.drop_duplicates()\n",
    "top_trans_pin_df = top_trans_pin_df.drop_duplicates()\n",
    "top_user_dist_df = top_user_dist_df.drop_duplicates()\n",
    "top_user_pin_df = top_user_pin_df.drop_duplicates()"
   ]
  },
  {
   "cell_type": "code",
   "execution_count": 40,
   "id": "eb97c0b0",
   "metadata": {},
   "outputs": [
    {
     "data": {
      "text/plain": [
       "False"
      ]
     },
     "execution_count": 40,
     "metadata": {},
     "output_type": "execute_result"
    }
   ],
   "source": [
    "top_user_pin_df.duplicated().any()"
   ]
  },
  {
   "cell_type": "markdown",
   "id": "a3230092",
   "metadata": {},
   "source": [
    "### Outliers finding across all dataframes"
   ]
  },
  {
   "cell_type": "code",
   "execution_count": 41,
   "id": "56a4456b",
   "metadata": {},
   "outputs": [],
   "source": [
    "def outliers(df):\n",
    "    outliers = {}\n",
    "    for col in df.select_dtypes(include=[np.number]).columns:\n",
    "        if col in ['Transaction_Count', 'Transaction_Amount']:\n",
    "            q1 = df[col].quantile(0.25)\n",
    "            q3 = df[col].quantile(0.75)\n",
    "            iqr = q3 - q1 \n",
    "            lower = q1 - (1.5 * iqr)\n",
    "            upper = q3 + (1.5 * iqr)\n",
    "            outliers[col] = len(df[(df[col]>upper) | (df[col]<lower)])\n",
    "        else:\n",
    "            continue\n",
    "    return outliers"
   ]
  },
  {
   "cell_type": "code",
   "execution_count": 42,
   "id": "7d130c6d",
   "metadata": {},
   "outputs": [
    {
     "name": "stdout",
     "output_type": "stream",
     "text": [
      "Outliers all dataframes : \n",
      "\n",
      "agg_trans_df \n",
      " {'Transaction_Count': 652, 'Transaction_Amount': 660} \n",
      "\n",
      "__________________________________________________ \n",
      "\n",
      "agg_user_df \n",
      " {'Transaction_Count': 893} \n",
      "\n",
      "__________________________________________________ \n",
      "\n",
      "map_trans_df \n",
      " {'Transaction_Count': 1785, 'Transaction_Amount': 1750} \n",
      "\n",
      "__________________________________________________ \n",
      "\n",
      "top_trans_dist_df \n",
      " {'Transaction_Count': 732, 'Transaction_Amount': 743} \n",
      "\n",
      "__________________________________________________ \n",
      "\n",
      "top_trans_pin_df \n",
      " {'Transaction_Count': 999, 'Transaction_Amount': 995} \n",
      "\n",
      "__________________________________________________ \n",
      "\n"
     ]
    }
   ],
   "source": [
    "print('Outliers all dataframes : \\n')\n",
    "for df_name in df_list:\n",
    "    df = globals()[df_name]\n",
    "    outliers_all = outliers(df)\n",
    "    if len(outliers_all) == 0:\n",
    "        pass\n",
    "    else:\n",
    "        print(df_name, '\\n', outliers_all, '\\n')\n",
    "        print(50*'_', '\\n')"
   ]
  },
  {
   "cell_type": "markdown",
   "id": "79d2c7ad",
   "metadata": {},
   "source": [
    "### Unique values count across all dataframes"
   ]
  },
  {
   "cell_type": "code",
   "execution_count": 43,
   "id": "d07e33d0",
   "metadata": {},
   "outputs": [],
   "source": [
    "def unique_values_count(df, exclude_cols=[]):\n",
    "    for col in df.columns:\n",
    "        if col in exclude_cols:\n",
    "            continue\n",
    "        unique_values = df[col].nunique()\n",
    "        print(f'{col} : {unique_values} unique values')\n",
    "        if unique_values < 10:\n",
    "            print(df[col].unique())"
   ]
  },
  {
   "cell_type": "code",
   "execution_count": 44,
   "id": "7bba0604",
   "metadata": {},
   "outputs": [
    {
     "name": "stdout",
     "output_type": "stream",
     "text": [
      "Unique value count across all dataframes \n",
      "\n",
      "\n",
      "agg_trans_df :\n",
      "\n",
      "Transaction_Type : 5 unique values\n",
      "['Recharge & bill payments' 'Peer-to-peer payments' 'Merchant payments'\n",
      " 'Financial Services' 'Others']\n",
      "Transaction_Count : 3548 unique values\n",
      "Transaction_Amount : 3594 unique values\n",
      "Region : 6 unique values\n",
      "['Southern Region' 'North-Eastern Region' 'Eastern Region'\n",
      " 'Northern Region' 'Central Region' 'Western Region']\n",
      "\n",
      " ________________________________________________________________________________ \n",
      "\n",
      "agg_user_df :\n",
      "\n",
      "Brand : 20 unique values\n",
      "Transaction_Count : 6501 unique values\n",
      "Region : 6 unique values\n",
      "['Southern Region' 'North-Eastern Region' 'Eastern Region'\n",
      " 'Northern Region' 'Central Region' 'Western Region']\n",
      "\n",
      " ________________________________________________________________________________ \n",
      "\n",
      "map_trans_df :\n",
      "\n",
      "District : 719 unique values\n",
      "Transaction_Count : 14407 unique values\n",
      "Transaction_Amount : 14476 unique values\n",
      "Latitude : 525 unique values\n",
      "Longitude : 532 unique values\n",
      "Region : 6 unique values\n",
      "['Southern Region' 'North-Eastern Region' 'Eastern Region'\n",
      " 'Northern Region' 'Central Region' 'Western Region']\n",
      "\n",
      " ________________________________________________________________________________ \n",
      "\n",
      "map_user_df :\n",
      "\n",
      "District : 719 unique values\n",
      "Registered_User : 2892 unique values\n",
      "App_Opens : 2896 unique values\n",
      "Latitude : 525 unique values\n",
      "Longitude : 532 unique values\n",
      "Region : 6 unique values\n",
      "['Southern Region' 'North-Eastern Region' 'Eastern Region'\n",
      " 'Northern Region' 'Central Region' 'Western Region']\n",
      "\n",
      " ________________________________________________________________________________ \n",
      "\n",
      "top_trans_dist_df :\n",
      "\n",
      "District : 361 unique values\n",
      "Transaction_Count : 5787 unique values\n",
      "Transaction_Amount : 5796 unique values\n",
      "Latitude : 293 unique values\n",
      "Longitude : 292 unique values\n",
      "Region : 6 unique values\n",
      "['Southern Region' 'North-Eastern Region' 'Eastern Region'\n",
      " 'Northern Region' 'Central Region' 'Western Region']\n",
      "\n",
      " ________________________________________________________________________________ \n",
      "\n",
      "top_trans_pin_df :\n",
      "\n",
      "Pincode : 746 unique values\n",
      "Transaction_Count : 7083 unique values\n",
      "Transaction_Amount : 7137 unique values\n",
      "Region : 6 unique values\n",
      "['Southern Region' 'North-Eastern Region' 'Eastern Region'\n",
      " 'Northern Region' 'Central Region' 'Western Region']\n",
      "\n",
      " ________________________________________________________________________________ \n",
      "\n",
      "top_user_dist_df :\n",
      "\n",
      "District : 307 unique values\n",
      "Registered_User : 5754 unique values\n",
      "Latitude : 252 unique values\n",
      "Longitude : 252 unique values\n",
      "Region : 6 unique values\n",
      "['Southern Region' 'North-Eastern Region' 'Eastern Region'\n",
      " 'Northern Region' 'Central Region' 'Western Region']\n",
      "\n",
      " ________________________________________________________________________________ \n",
      "\n",
      "top_user_pin_df :\n",
      "\n",
      "Pincode : 426 unique values\n",
      "Registered_User : 6882 unique values\n",
      "Region : 6 unique values\n",
      "['Southern Region' 'North-Eastern Region' 'Eastern Region'\n",
      " 'Northern Region' 'Central Region' 'Western Region']\n",
      "\n",
      " ________________________________________________________________________________ \n",
      "\n"
     ]
    }
   ],
   "source": [
    "print('Unique value count across all dataframes \\n\\n')\n",
    "\n",
    "for df_name in df_list:\n",
    "    df = globals()[df_name]\n",
    "    print(df_name, ':\\n')\n",
    "    unique_values_count(df, exclude_cols = ['State', 'Year', 'Quarter', 'Percentage'])\n",
    "    print('\\n', 80*'_', '\\n')"
   ]
  },
  {
   "cell_type": "markdown",
   "id": "35f41226",
   "metadata": {},
   "source": [
    "### Creating CSV files out of refined dataframes"
   ]
  },
  {
   "cell_type": "code",
   "execution_count": 45,
   "id": "0863f769",
   "metadata": {},
   "outputs": [],
   "source": [
    "def save_dfs_as_csv(df_list):\n",
    "    subfolder = 'D:\\Desktop\\Projects\\Phonepy\\Datas\\Miscellaneous'\n",
    "    if not os.path.exists(subfolder):\n",
    "        os.makedirs(subfolder)\n",
    "        \n",
    "    for df_name in df_list:\n",
    "        df = globals()[df_name]\n",
    "        file_path = os.path.join(subfolder, df_name.replace('_df','') + '.csv')\n",
    "        df.to_csv(file_path, index=False)\n",
    "        \n",
    "save_dfs_as_csv(df_list)"
   ]
  },
  {
   "cell_type": "markdown",
   "id": "bf818956",
   "metadata": {},
   "source": [
    "### SQL Part"
   ]
  },
  {
   "cell_type": "markdown",
   "id": "96fc0489",
   "metadata": {},
   "source": [
    "#### Establishing connection and create cursor"
   ]
  },
  {
   "cell_type": "code",
   "execution_count": 46,
   "id": "3bc6a5e6",
   "metadata": {},
   "outputs": [],
   "source": [
    "import mysql.connector\n",
    "conn = mysql.connector.connect(\n",
    "    host = 'localhost',\n",
    "    user = 'root',\n",
    "    password = 'Samy@1007'\n",
    ")\n",
    "\n",
    "cursor = conn.cursor()"
   ]
  },
  {
   "cell_type": "markdown",
   "id": "9cec1c7d",
   "metadata": {},
   "source": [
    "#### Database creation"
   ]
  },
  {
   "cell_type": "code",
   "execution_count": 47,
   "id": "a949a5d5",
   "metadata": {},
   "outputs": [
    {
     "data": {
      "text/plain": [
       "State               object\n",
       "Year                 int64\n",
       "Quarter              int64\n",
       "District            object\n",
       "Registered_User      int64\n",
       "Latitude           float64\n",
       "Longitude          float64\n",
       "Region              object\n",
       "dtype: object"
      ]
     },
     "execution_count": 47,
     "metadata": {},
     "output_type": "execute_result"
    }
   ],
   "source": [
    "top_user_dist_df.dtypes"
   ]
  },
  {
   "cell_type": "code",
   "execution_count": 48,
   "id": "0ba8e1bc",
   "metadata": {},
   "outputs": [],
   "source": [
    "cursor.execute('drop database if exists phonepe_pulse')\n",
    "\n",
    "cursor.execute('create database phonepe_pulse')\n",
    "\n",
    "cursor.execute('use phonepe_pulse')"
   ]
  },
  {
   "cell_type": "markdown",
   "id": "71af8ee9",
   "metadata": {},
   "source": [
    "#### Creating tables"
   ]
  },
  {
   "cell_type": "code",
   "execution_count": 49,
   "id": "c1d771a6",
   "metadata": {},
   "outputs": [],
   "source": [
    "cursor.execute('''create table agg_trans(\n",
    "                  state varchar(255)\n",
    "                  ,year year\n",
    "                  ,quarter int\n",
    "                  ,transaction_type varchar(255)\n",
    "                  ,transaction_count int\n",
    "                  ,transaction_amount float\n",
    "                  ,region varchar(255)\n",
    "                  ,primary key(state(255), year, quarter, transaction_type(255), region(255))\n",
    "                  )''')\n",
    "\n",
    "cursor.execute('''create table agg_user(\n",
    "                  state varchar(255)\n",
    "                  ,year year\n",
    "                  ,quarter int\n",
    "                  ,brand varchar(255)\n",
    "                  ,transaction_count int\n",
    "                  ,percentage float\n",
    "                  ,region varchar(255)\n",
    "                  ,primary key(state(255), year, quarter, brand(255), region(255))\n",
    "                  )''')\n",
    "\n",
    "cursor.execute('''create table map_trans(\n",
    "                  state varchar(255)\n",
    "                  ,year year\n",
    "                  ,quarter int\n",
    "                  ,district varchar(255)\n",
    "                  ,transaction_count int\n",
    "                  ,transaction_amount float\n",
    "                  ,latitude float\n",
    "                  ,longitude float\n",
    "                  ,region varchar(255)\n",
    "                  ,primary key(state(255), year, quarter, district(255), region(255))\n",
    "                  )''')\n",
    "\n",
    "cursor.execute('''create table map_user(\n",
    "                  state varchar(255)\n",
    "                  ,year year\n",
    "                  ,quarter int\n",
    "                  ,district varchar(255)\n",
    "                  ,registered_user int\n",
    "                  ,app_opens int\n",
    "                  ,latitude float\n",
    "                  ,longitude float\n",
    "                  ,region varchar(255)\n",
    "                  ,primary key(state(255), year, quarter, district(255),  region(255))\n",
    "                  )''')\n",
    "\n",
    "cursor.execute('''create table top_trans_dist(\n",
    "                  state varchar(255)\n",
    "                  ,year year\n",
    "                  ,quarter int\n",
    "                  ,district varchar(255)\n",
    "                  ,transaction_count int\n",
    "                  ,transaction_amount float\n",
    "                  ,latitude float\n",
    "                  ,longitude float\n",
    "                  ,region varchar(255)\n",
    "                  ,primary key(state(255), year, quarter, district(255),  region(255))\n",
    "                  )''')\n",
    "\n",
    "cursor.execute('''create table top_trans_pin(\n",
    "                  state varchar(255)\n",
    "                  ,year year\n",
    "                  ,quarter int\n",
    "                  ,pincode int\n",
    "                  ,transaction_count int\n",
    "                  ,transaction_amount float\n",
    "                  ,region varchar(255)\n",
    "                  ,primary key(state(255), year, quarter, pincode,  region(255))\n",
    "                  )''')\n",
    "\n",
    "cursor.execute('''create table top_user_dist(\n",
    "                  state varchar(255)\n",
    "                  ,year year\n",
    "                  ,quarter int\n",
    "                  ,district varchar(255)\n",
    "                  ,registered_user int\n",
    "                  ,latitude float\n",
    "                  ,longitude float\n",
    "                  ,region varchar(255)\n",
    "                  ,primary key(state(255), year, quarter, district(255),  region(255))\n",
    "                  )''')\n",
    "\n",
    "cursor.execute('''create table top_user_pin(\n",
    "                  state varchar(255)\n",
    "                  ,year year\n",
    "                  ,quarter int\n",
    "                  ,pincode int \n",
    "                  ,registered_user int\n",
    "                  ,region varchar(255)\n",
    "                  ,primary key(state(255), year, quarter, pincode,  region(255))\n",
    "                  )''')"
   ]
  },
  {
   "cell_type": "markdown",
   "id": "01921673",
   "metadata": {},
   "source": [
    "#### Pushing data into MySQL"
   ]
  },
  {
   "cell_type": "code",
   "execution_count": 50,
   "id": "6331dc72",
   "metadata": {},
   "outputs": [],
   "source": [
    "def push_data_into_mysql(conn, cursor, dfs, table_columns):\n",
    "    for table_name in dfs.keys():\n",
    "        df = dfs[table_name]\n",
    "        columns = table_columns[table_name]\n",
    "        placeholders = ', '.join(['%s'] * len(columns))\n",
    "        query = f\"insert into {table_name} ({', '.join(columns)}) values ({placeholders})\"\n",
    "        for _, row in df.iterrows():\n",
    "            data = tuple(row[column] for column in columns)\n",
    "            cursor.execute(query, data)\n",
    "        conn.commit()\n",
    "    print('Datas successfully pushed into MySQL Tables')"
   ]
  },
  {
   "cell_type": "code",
   "execution_count": 51,
   "id": "0c601f3a",
   "metadata": {},
   "outputs": [],
   "source": [
    "dfs = {\n",
    "    'agg_trans':agg_trans_df,\n",
    "    'agg_user':agg_user_df,\n",
    "    'map_trans':map_trans_df,\n",
    "    'map_user':map_user_df,\n",
    "    'top_trans_dist':top_trans_dist_df,\n",
    "    'top_trans_pin':top_trans_pin_df,\n",
    "    'top_user_dist':top_user_dist_df,\n",
    "    'top_user_pin':top_user_pin_df\n",
    "}\n",
    "\n",
    "table_columns = {\n",
    "    'agg_trans':list(agg_trans_df.columns),\n",
    "    'agg_user':list(agg_user_df.columns),\n",
    "    'map_trans':list(map_trans_df.columns),\n",
    "    'map_user':list(map_user_df.columns),\n",
    "    'top_trans_dist':list(top_trans_dist_df.columns),\n",
    "    'top_trans_pin':list(top_trans_pin_df.columns),\n",
    "    'top_user_dist':list(top_user_dist_df.columns),\n",
    "    'top_user_pin':list(top_user_pin_df.columns)\n",
    "}"
   ]
  },
  {
   "cell_type": "code",
   "execution_count": 52,
   "id": "17d46fce",
   "metadata": {
    "scrolled": true
   },
   "outputs": [
    {
     "name": "stdout",
     "output_type": "stream",
     "text": [
      "Datas successfully pushed into MySQL Tables\n"
     ]
    }
   ],
   "source": [
    "push_data_into_mysql(conn, cursor, dfs, table_columns)"
   ]
  },
  {
   "cell_type": "code",
   "execution_count": 53,
   "id": "fc66ec49",
   "metadata": {},
   "outputs": [],
   "source": [
    "# cursor.execute('use phonepe_pulse')"
   ]
  },
  {
   "cell_type": "code",
   "execution_count": 54,
   "id": "d7a51a42",
   "metadata": {},
   "outputs": [
    {
     "name": "stdout",
     "output_type": "stream",
     "text": [
      "agg_trans table has 3594 rows and 7 columns,  Shape matched\n",
      "agg_user table has 6732 rows and 7 columns,  Shape matched\n",
      "map_trans table has 14476 rows and 9 columns,  Shape matched\n",
      "map_user table has 2896 rows and 9 columns,  Shape matched\n",
      "top_trans_dist table has 5796 rows and 9 columns,  Shape matched\n",
      "top_trans_pin table has 7137 rows and 7 columns,  Shape matched\n",
      "top_user_dist table has 5800 rows and 8 columns,  Shape matched\n",
      "top_user_pin table has 7140 rows and 6 columns,  Shape matched\n"
     ]
    }
   ],
   "source": [
    "cursor.execute('show tables')\n",
    "tables = cursor.fetchall()\n",
    "\n",
    "for table in tables:\n",
    "    table_name = table[0]\n",
    "    cursor.execute(f'select count(*) from {table_name}')\n",
    "    row_count = cursor.fetchone()[0]\n",
    "    cursor.execute(f\"select count(*) from information_schema.columns where table_name='{table_name}'\")\n",
    "    column_count = cursor.fetchone()[0]\n",
    "    \n",
    "    df = dfs[table_name]\n",
    "    if df.shape == (row_count, column_count):\n",
    "        print(f'{table_name} table has {row_count} rows and {column_count} columns,  Shape matched')\n",
    "    else:\n",
    "        print(f'{table_name} table has {row_count} rows and {column_count} columns,Shape not matched')\n",
    "        \n",
    "cursor.close()\n",
    "conn.close()"
   ]
  },
  {
   "cell_type": "code",
   "execution_count": null,
   "id": "3a8a395f",
   "metadata": {},
   "outputs": [],
   "source": []
  }
 ],
 "metadata": {
  "kernelspec": {
   "display_name": "Python 3 (ipykernel)",
   "language": "python",
   "name": "python3"
  },
  "language_info": {
   "codemirror_mode": {
    "name": "ipython",
    "version": 3
   },
   "file_extension": ".py",
   "mimetype": "text/x-python",
   "name": "python",
   "nbconvert_exporter": "python",
   "pygments_lexer": "ipython3",
   "version": "3.9.12"
  }
 },
 "nbformat": 4,
 "nbformat_minor": 5
}
